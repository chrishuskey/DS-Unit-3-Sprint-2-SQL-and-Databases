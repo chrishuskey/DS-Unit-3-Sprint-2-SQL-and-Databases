{
 "cells": [
  {
   "cell_type": "markdown",
   "metadata": {
    "colab_type": "text",
    "id": "3TjPeW5AnR-B"
   },
   "source": [
    "## **Setup: Setting up the SQLite DB:**"
   ]
  },
  {
   "cell_type": "code",
   "execution_count": 105,
   "metadata": {
    "colab": {},
    "colab_type": "code",
    "id": "nl5xFo_4koQr"
   },
   "outputs": [],
   "source": [
    "import sqlite3\n",
    "import pandas as pd"
   ]
  },
  {
   "cell_type": "code",
   "execution_count": 106,
   "metadata": {
    "colab": {},
    "colab_type": "code",
    "id": "CPImnQEknZW-"
   },
   "outputs": [],
   "source": [
    "# Open up a new connection:\n",
    "conn = sqlite3.connect('rpg_db.sqlite3')"
   ]
  },
  {
   "cell_type": "code",
   "execution_count": 107,
   "metadata": {},
   "outputs": [],
   "source": [
    "# Open new cursor:\n",
    "curs = conn.cursor()"
   ]
  },
  {
   "cell_type": "markdown",
   "metadata": {
    "colab_type": "text",
    "id": "rUyAPH9alIV7"
   },
   "source": [
    "## **Assignment - Part 1, Querying a Database:**"
   ]
  },
  {
   "cell_type": "markdown",
   "metadata": {
    "colab_type": "text",
    "id": "54vbZjFPlUfK"
   },
   "source": [
    "This directory contains a file rpg_db.sqlite3, a database for a hypothetical webapp role-playing game. This test data has dozens-to-hundreds of randomly generated characters across the base classes (Fighter, Mage, Cleric, and Thief) as well as a few Necromancers. Also generated are Items, Weapons, and connections from characters to them. Note that, while the name field was randomized, the numeric and boolean fields were left as defaults.\n",
    "\n",
    "Use sqlite3 to load and write queries to explore the data, and answer the following questions:"
   ]
  },
  {
   "cell_type": "markdown",
   "metadata": {
    "colab_type": "text",
    "id": "5-eO7NTFmKPE"
   },
   "source": [
    "**(1) How many total Characters are there?**"
   ]
  },
  {
   "cell_type": "code",
   "execution_count": 108,
   "metadata": {},
   "outputs": [
    {
     "name": "stdout",
     "output_type": "stream",
     "text": [
      "(1) How many total Characters are there?: 302 Characters\n"
     ]
    }
   ],
   "source": [
    "num_chars = curs.execute(\"SELECT COUNT(DISTINCT character_id) FROM charactercreator_character\").fetchall()[0][0]\n",
    "print(f\"(1) How many total Characters are there?: {num_chars} Characters\")"
   ]
  },
  {
   "cell_type": "markdown",
   "metadata": {
    "colab_type": "text",
    "id": "YRptpBpUmN1C"
   },
   "source": [
    "**(2) How many of each specific subclass?**"
   ]
  },
  {
   "cell_type": "code",
   "execution_count": 109,
   "metadata": {},
   "outputs": [
    {
     "name": "stdout",
     "output_type": "stream",
     "text": [
      "(2) How many of each specific subclass (of Character)?\n",
      "# of clerics: 75\n",
      "# of fighters: 68\n",
      "# of thiefs: 51\n",
      "# of mages: 108 (of which 11 are necromancers)\n"
     ]
    }
   ],
   "source": [
    "# SQLite queries to find how many unique characters there are of each character type:\n",
    "num_clerics = curs.execute(\"SELECT COUNT(DISTINCT character_ptr_id) FROM charactercreator_cleric\").fetchall()[0][0]\n",
    "num_fighters = curs.execute(\"SELECT COUNT(DISTINCT character_ptr_id) FROM charactercreator_fighter\").fetchall()[0][0]\n",
    "num_thiefs = curs.execute(\"SELECT COUNT(DISTINCT character_ptr_id) FROM charactercreator_thief\").fetchall()[0][0]\n",
    "num_mages = curs.execute(\"SELECT COUNT(DISTINCT character_ptr_id) FROM charactercreator_mage\").fetchall()[0][0]\n",
    "num_mages_necromancers = curs.execute(\"SELECT COUNT(DISTINCT mage_ptr_id) FROM charactercreator_necromancer\").fetchall()[0][0]\n",
    "\n",
    "# Print answers:\n",
    "print(\"(2) How many of each specific subclass (of Character)?\")\n",
    "print(f\"# of clerics: {num_clerics}\")\n",
    "print(f\"# of fighters: {num_fighters}\")\n",
    "print(f\"# of thiefs: {num_thiefs}\")\n",
    "print(f\"# of mages: {num_mages} (of which {num_mages_necromancers} are necromancers)\")\n",
    "\n",
    "# Check to make sure we covered all characters and type:\n",
    "assert num_chars == num_clerics + num_fighters + num_thiefs + num_mages"
   ]
  },
  {
   "cell_type": "markdown",
   "metadata": {
    "colab_type": "text",
    "id": "Tx2C6iv4mVxK"
   },
   "source": [
    "**(3) How many total Items?**"
   ]
  },
  {
   "cell_type": "code",
   "execution_count": 110,
   "metadata": {
    "colab": {},
    "colab_type": "code",
    "id": "e7GRPbBsmJIP"
   },
   "outputs": [
    {
     "name": "stdout",
     "output_type": "stream",
     "text": [
      "# of unique item types: 174 items (37 weapons, 137 non-weapons)\n",
      "# of total items held by characters in the game: 898 items\n"
     ]
    }
   ],
   "source": [
    "# SQLite queries to find how many unique items, how many of those are weapons, and how many total items \n",
    "# held by characters there are:\n",
    "num_unique_items = curs.execute(\"SELECT COUNT(DISTINCT item_id) FROM armory_item\").fetchall()[0][0]\n",
    "num_weapons = curs.execute(\"SELECT COUNT(DISTINCT item_ptr_id) FROM armory_weapon\").fetchall()[0][0]\n",
    "total_items_held = curs.execute(\"SELECT COUNT(item_id) FROM charactercreator_character_inventory\").fetchall()[0][0]\n",
    "\n",
    "# Print answers:\n",
    "print(f\"# of unique item types: {num_unique_items} items ({num_weapons} weapons, {num_unique_items - num_weapons} non-weapons)\")\n",
    "print(f\"# of total items held by characters in the game: {total_items_held} items\")"
   ]
  },
  {
   "cell_type": "markdown",
   "metadata": {
    "colab_type": "text",
    "id": "KFDM3NY0mXu8"
   },
   "source": [
    "**(4) How many of the Items are weapons? How many are not?**"
   ]
  },
  {
   "cell_type": "markdown",
   "metadata": {},
   "source": [
    "See answer to Question #3 above."
   ]
  },
  {
   "cell_type": "markdown",
   "metadata": {
    "colab_type": "text",
    "id": "-WxkualxmZbo"
   },
   "source": [
    "**(5) How many Items does each character have? (Return first 20 rows)**"
   ]
  },
  {
   "cell_type": "code",
   "execution_count": 111,
   "metadata": {
    "colab": {},
    "colab_type": "code",
    "id": "Ut8eEBcymJNT"
   },
   "outputs": [
    {
     "data": {
      "text/html": [
       "<div>\n",
       "<style scoped>\n",
       "    .dataframe tbody tr th:only-of-type {\n",
       "        vertical-align: middle;\n",
       "    }\n",
       "\n",
       "    .dataframe tbody tr th {\n",
       "        vertical-align: top;\n",
       "    }\n",
       "\n",
       "    .dataframe thead th {\n",
       "        text-align: right;\n",
       "    }\n",
       "</style>\n",
       "<table border=\"1\" class=\"dataframe\">\n",
       "  <thead>\n",
       "    <tr style=\"text-align: right;\">\n",
       "      <th></th>\n",
       "      <th>character_id</th>\n",
       "      <th>num_items_held</th>\n",
       "    </tr>\n",
       "  </thead>\n",
       "  <tbody>\n",
       "    <tr>\n",
       "      <th>0</th>\n",
       "      <td>1</td>\n",
       "      <td>3</td>\n",
       "    </tr>\n",
       "    <tr>\n",
       "      <th>1</th>\n",
       "      <td>2</td>\n",
       "      <td>3</td>\n",
       "    </tr>\n",
       "    <tr>\n",
       "      <th>2</th>\n",
       "      <td>3</td>\n",
       "      <td>2</td>\n",
       "    </tr>\n",
       "    <tr>\n",
       "      <th>3</th>\n",
       "      <td>4</td>\n",
       "      <td>4</td>\n",
       "    </tr>\n",
       "    <tr>\n",
       "      <th>4</th>\n",
       "      <td>5</td>\n",
       "      <td>4</td>\n",
       "    </tr>\n",
       "    <tr>\n",
       "      <th>5</th>\n",
       "      <td>6</td>\n",
       "      <td>1</td>\n",
       "    </tr>\n",
       "    <tr>\n",
       "      <th>6</th>\n",
       "      <td>7</td>\n",
       "      <td>5</td>\n",
       "    </tr>\n",
       "    <tr>\n",
       "      <th>7</th>\n",
       "      <td>8</td>\n",
       "      <td>3</td>\n",
       "    </tr>\n",
       "    <tr>\n",
       "      <th>8</th>\n",
       "      <td>9</td>\n",
       "      <td>4</td>\n",
       "    </tr>\n",
       "    <tr>\n",
       "      <th>9</th>\n",
       "      <td>10</td>\n",
       "      <td>4</td>\n",
       "    </tr>\n",
       "    <tr>\n",
       "      <th>10</th>\n",
       "      <td>11</td>\n",
       "      <td>3</td>\n",
       "    </tr>\n",
       "    <tr>\n",
       "      <th>11</th>\n",
       "      <td>12</td>\n",
       "      <td>3</td>\n",
       "    </tr>\n",
       "    <tr>\n",
       "      <th>12</th>\n",
       "      <td>13</td>\n",
       "      <td>4</td>\n",
       "    </tr>\n",
       "    <tr>\n",
       "      <th>13</th>\n",
       "      <td>14</td>\n",
       "      <td>4</td>\n",
       "    </tr>\n",
       "    <tr>\n",
       "      <th>14</th>\n",
       "      <td>15</td>\n",
       "      <td>4</td>\n",
       "    </tr>\n",
       "    <tr>\n",
       "      <th>15</th>\n",
       "      <td>16</td>\n",
       "      <td>1</td>\n",
       "    </tr>\n",
       "    <tr>\n",
       "      <th>16</th>\n",
       "      <td>17</td>\n",
       "      <td>5</td>\n",
       "    </tr>\n",
       "    <tr>\n",
       "      <th>17</th>\n",
       "      <td>18</td>\n",
       "      <td>5</td>\n",
       "    </tr>\n",
       "    <tr>\n",
       "      <th>18</th>\n",
       "      <td>19</td>\n",
       "      <td>3</td>\n",
       "    </tr>\n",
       "    <tr>\n",
       "      <th>19</th>\n",
       "      <td>20</td>\n",
       "      <td>1</td>\n",
       "    </tr>\n",
       "  </tbody>\n",
       "</table>\n",
       "</div>"
      ],
      "text/plain": [
       "    character_id  num_items_held\n",
       "0              1               3\n",
       "1              2               3\n",
       "2              3               2\n",
       "3              4               4\n",
       "4              5               4\n",
       "5              6               1\n",
       "6              7               5\n",
       "7              8               3\n",
       "8              9               4\n",
       "9             10               4\n",
       "10            11               3\n",
       "11            12               3\n",
       "12            13               4\n",
       "13            14               4\n",
       "14            15               4\n",
       "15            16               1\n",
       "16            17               5\n",
       "17            18               5\n",
       "18            19               3\n",
       "19            20               1"
      ]
     },
     "execution_count": 111,
     "metadata": {},
     "output_type": "execute_result"
    }
   ],
   "source": [
    "# SQLite query to find how many total items each character has:\n",
    "query_05_results = curs.execute(\"SELECT character_id, COUNT(item_id) FROM charactercreator_character_inventory GROUP BY character_id ORDER BY character_id LIMIT 20\").fetchall()\n",
    "\n",
    "# Same query on multiple lines (better code style?):\n",
    "# SELECT character_id, COUNT(item_id) \n",
    "# FROM charactercreator_character_inventory \n",
    "# GROUP BY character_id \n",
    "# ORDER BY character_id\n",
    "# LIMIT 20\n",
    "\n",
    "# Display results as a table by making into a pandas dataframe:\n",
    "pd.DataFrame(query_05_results, columns=['character_id', 'num_items_held'])\n"
   ]
  },
  {
   "cell_type": "markdown",
   "metadata": {
    "colab_type": "text",
    "id": "WvBogJhRmbPn"
   },
   "source": [
    "**(6) How many Weapons does each character have? (Return first 20 rows)**"
   ]
  },
  {
   "cell_type": "code",
   "execution_count": 112,
   "metadata": {},
   "outputs": [
    {
     "data": {
      "text/html": [
       "<div>\n",
       "<style scoped>\n",
       "    .dataframe tbody tr th:only-of-type {\n",
       "        vertical-align: middle;\n",
       "    }\n",
       "\n",
       "    .dataframe tbody tr th {\n",
       "        vertical-align: top;\n",
       "    }\n",
       "\n",
       "    .dataframe thead th {\n",
       "        text-align: right;\n",
       "    }\n",
       "</style>\n",
       "<table border=\"1\" class=\"dataframe\">\n",
       "  <thead>\n",
       "    <tr style=\"text-align: right;\">\n",
       "      <th></th>\n",
       "      <th>character_id</th>\n",
       "      <th>num_weapons_held</th>\n",
       "    </tr>\n",
       "  </thead>\n",
       "  <tbody>\n",
       "    <tr>\n",
       "      <th>0</th>\n",
       "      <td>5</td>\n",
       "      <td>2</td>\n",
       "    </tr>\n",
       "    <tr>\n",
       "      <th>1</th>\n",
       "      <td>7</td>\n",
       "      <td>1</td>\n",
       "    </tr>\n",
       "    <tr>\n",
       "      <th>2</th>\n",
       "      <td>11</td>\n",
       "      <td>1</td>\n",
       "    </tr>\n",
       "    <tr>\n",
       "      <th>3</th>\n",
       "      <td>20</td>\n",
       "      <td>1</td>\n",
       "    </tr>\n",
       "    <tr>\n",
       "      <th>4</th>\n",
       "      <td>22</td>\n",
       "      <td>1</td>\n",
       "    </tr>\n",
       "    <tr>\n",
       "      <th>5</th>\n",
       "      <td>23</td>\n",
       "      <td>1</td>\n",
       "    </tr>\n",
       "    <tr>\n",
       "      <th>6</th>\n",
       "      <td>26</td>\n",
       "      <td>1</td>\n",
       "    </tr>\n",
       "    <tr>\n",
       "      <th>7</th>\n",
       "      <td>27</td>\n",
       "      <td>3</td>\n",
       "    </tr>\n",
       "    <tr>\n",
       "      <th>8</th>\n",
       "      <td>29</td>\n",
       "      <td>2</td>\n",
       "    </tr>\n",
       "    <tr>\n",
       "      <th>9</th>\n",
       "      <td>30</td>\n",
       "      <td>1</td>\n",
       "    </tr>\n",
       "    <tr>\n",
       "      <th>10</th>\n",
       "      <td>32</td>\n",
       "      <td>1</td>\n",
       "    </tr>\n",
       "    <tr>\n",
       "      <th>11</th>\n",
       "      <td>34</td>\n",
       "      <td>1</td>\n",
       "    </tr>\n",
       "    <tr>\n",
       "      <th>12</th>\n",
       "      <td>35</td>\n",
       "      <td>2</td>\n",
       "    </tr>\n",
       "    <tr>\n",
       "      <th>13</th>\n",
       "      <td>36</td>\n",
       "      <td>3</td>\n",
       "    </tr>\n",
       "    <tr>\n",
       "      <th>14</th>\n",
       "      <td>37</td>\n",
       "      <td>2</td>\n",
       "    </tr>\n",
       "    <tr>\n",
       "      <th>15</th>\n",
       "      <td>38</td>\n",
       "      <td>2</td>\n",
       "    </tr>\n",
       "    <tr>\n",
       "      <th>16</th>\n",
       "      <td>39</td>\n",
       "      <td>2</td>\n",
       "    </tr>\n",
       "    <tr>\n",
       "      <th>17</th>\n",
       "      <td>40</td>\n",
       "      <td>1</td>\n",
       "    </tr>\n",
       "    <tr>\n",
       "      <th>18</th>\n",
       "      <td>41</td>\n",
       "      <td>1</td>\n",
       "    </tr>\n",
       "    <tr>\n",
       "      <th>19</th>\n",
       "      <td>47</td>\n",
       "      <td>1</td>\n",
       "    </tr>\n",
       "  </tbody>\n",
       "</table>\n",
       "</div>"
      ],
      "text/plain": [
       "    character_id  num_weapons_held\n",
       "0              5                 2\n",
       "1              7                 1\n",
       "2             11                 1\n",
       "3             20                 1\n",
       "4             22                 1\n",
       "5             23                 1\n",
       "6             26                 1\n",
       "7             27                 3\n",
       "8             29                 2\n",
       "9             30                 1\n",
       "10            32                 1\n",
       "11            34                 1\n",
       "12            35                 2\n",
       "13            36                 3\n",
       "14            37                 2\n",
       "15            38                 2\n",
       "16            39                 2\n",
       "17            40                 1\n",
       "18            41                 1\n",
       "19            47                 1"
      ]
     },
     "execution_count": 112,
     "metadata": {},
     "output_type": "execute_result"
    }
   ],
   "source": [
    "# SQLite query to find how many weapons each character has:\n",
    "query_06_results = curs.execute(\"SELECT inventory.character_id, COUNT(items.item_id) FROM charactercreator_character_inventory as inventory, armory_item as items, armory_weapon AS weapons WHERE inventory.item_id = items.item_id AND items.item_id = weapons.item_ptr_id GROUP BY inventory.character_id LIMIT 20\").fetchall()\n",
    "\n",
    "# Same query on multiple lines (better code style?):\n",
    "# SELECT inventory.character_id, COUNT(items.item_id)\n",
    "# FROM charactercreator_character_inventory as inventory, armory_item as items, armory_weapon AS weapons\n",
    "# WHERE inventory.item_id = items.item_id AND items.item_id = weapons.item_ptr_id\n",
    "# GROUP BY inventory.character_id\n",
    "# LIMIT 20\n",
    "\n",
    "# Display results as a table by making into a pandas dataframe:\n",
    "pd.DataFrame(query_06_results, columns=['character_id', 'num_weapons_held'])"
   ]
  },
  {
   "cell_type": "code",
   "execution_count": 113,
   "metadata": {},
   "outputs": [
    {
     "data": {
      "text/plain": [
       "[(5, 2),\n",
       " (7, 1),\n",
       " (11, 1),\n",
       " (20, 1),\n",
       " (22, 1),\n",
       " (23, 1),\n",
       " (26, 1),\n",
       " (27, 3),\n",
       " (29, 2),\n",
       " (30, 1),\n",
       " (32, 1),\n",
       " (34, 1),\n",
       " (35, 2),\n",
       " (36, 3),\n",
       " (37, 2),\n",
       " (38, 2),\n",
       " (39, 2),\n",
       " (40, 1),\n",
       " (41, 1),\n",
       " (47, 1)]"
      ]
     },
     "execution_count": 113,
     "metadata": {},
     "output_type": "execute_result"
    }
   ],
   "source": [
    "# CHECK answer (BUT don't use this syntax -- BETWEEN 138 AND 174 isn't as good as directly \n",
    "# checking if item_id is in weapons):\n",
    "curs.execute(\"SELECT character_id, COUNT(item_id) FROM charactercreator_character_inventory WHERE item_id BETWEEN 138 AND 174 GROUP BY character_id ORDER BY character_id LIMIT 20\").fetchall()\n",
    "\n",
    "# SELECT character_id, COUNT(item_id)\n",
    "# FROM charactercreator_character_inventory\n",
    "# WHERE item_id BETWEEN 138 AND 174\n",
    "# GROUP By character_id\n",
    "# ORDER BY character_id\n",
    "# LIMIT 20"
   ]
  },
  {
   "cell_type": "markdown",
   "metadata": {
    "colab_type": "text",
    "id": "ukKccKSZmdLz"
   },
   "source": [
    "**(7) On average, how many Items does each Character have?**"
   ]
  },
  {
   "cell_type": "code",
   "execution_count": null,
   "metadata": {},
   "outputs": [],
   "source": []
  },
  {
   "cell_type": "code",
   "execution_count": 114,
   "metadata": {
    "colab": {},
    "colab_type": "code",
    "id": "KMnJs4DxmJSn"
   },
   "outputs": [],
   "source": [
    "# CHECK vs. correct answers:\n",
    "# Total items held: 898\n",
    "# Total characters: 302\n",
    "# Avg. items per character: 2.9735099337748343\n",
    "\n",
    "# Total weapons held: 203\n",
    "# Avg. weapons per character: 0.22605790645879734\n",
    "# Characters holding weapons: 155\n",
    "# Avg. weapons per character holding >=1 weapons: 1.3096774193548386"
   ]
  },
  {
   "cell_type": "markdown",
   "metadata": {
    "colab_type": "text",
    "id": "UzDAEBbvmejm"
   },
   "source": [
    "**(8) On average, how many Weapons does each character have?**"
   ]
  },
  {
   "cell_type": "code",
   "execution_count": null,
   "metadata": {},
   "outputs": [],
   "source": []
  },
  {
   "cell_type": "code",
   "execution_count": 115,
   "metadata": {},
   "outputs": [],
   "source": [
    "# CHECK vs. correct answers:\n",
    "# Total items held: 898\n",
    "# Total characters: 302\n",
    "# Avg. items per character: 2.9735099337748343\n",
    "\n",
    "# Total weapons held: 203\n",
    "# Avg. weapons per character: 0.22605790645879734\n",
    "# Characters holding weapons: 155\n",
    "# Avg. weapons per character holding >=1 weapons: 1.3096774193548386"
   ]
  },
  {
   "cell_type": "markdown",
   "metadata": {
    "colab_type": "text",
    "id": "DMfjjIvsmf02"
   },
   "source": [
    "You do not need all the tables - in particular, the account_*, auth_*, django_*, and socialaccount_* tables are for the application and do not have the data you need. the charactercreator_* and armory_* tables and where you should focus your attention. armory_item and charactercreator_character are the main tables for Items and Characters respectively - the other tables are subsets of them by type (i.e. subclasses), connected via a key (item_id and character_id).\n",
    "\n",
    "You can use the DB Browser or other tools to explore the data and work on your queries if you wish, but to complete the assignment you should write a file rpg_queries.py that imports sqlite3 and programmatically executes and reports results for the above queries.\n",
    "\n",
    "Some of these queries are challenging - that's OK! You can keep working on them tomorrow as well (we'll visit loading the same data into PostgreSQL). It's also OK to figure out the results partially with a query and partially with a bit of logic or math afterwards, though doing things purely with SQL is a good goal. Subqueries and aggregation functions may be helpful for putting together more complicated queries."
   ]
  }
 ],
 "metadata": {
  "colab": {
   "collapsed_sections": [],
   "name": "Assignment - DS 321 - Introduction to SQL (SQLite Portion).ipynb",
   "provenance": []
  },
  "kernelspec": {
   "display_name": "Python 3",
   "language": "python",
   "name": "python3"
  },
  "language_info": {
   "codemirror_mode": {
    "name": "ipython",
    "version": 3
   },
   "file_extension": ".py",
   "mimetype": "text/x-python",
   "name": "python",
   "nbconvert_exporter": "python",
   "pygments_lexer": "ipython3",
   "version": "3.7.3"
  }
 },
 "nbformat": 4,
 "nbformat_minor": 1
}

{
 "cells": [
  {
   "cell_type": "markdown",
   "metadata": {
    "colab_type": "text",
    "id": "3TjPeW5AnR-B"
   },
   "source": [
    "## **Setup: Setting up the SQLite DB:**"
   ]
  },
  {
   "cell_type": "code",
   "execution_count": 1,
   "metadata": {
    "colab": {},
    "colab_type": "code",
    "id": "nl5xFo_4koQr"
   },
   "outputs": [],
   "source": [
    "import sqlite3\n",
    "import pandas as pd"
   ]
  },
  {
   "cell_type": "code",
   "execution_count": 2,
   "metadata": {
    "colab": {},
    "colab_type": "code",
    "id": "CPImnQEknZW-"
   },
   "outputs": [],
   "source": [
    "# Open up a new connection:\n",
    "conn = sqlite3.connect('rpg_db.sqlite3')"
   ]
  },
  {
   "cell_type": "code",
   "execution_count": 3,
   "metadata": {},
   "outputs": [],
   "source": [
    "# Open new cursor:\n",
    "curs = conn.cursor()"
   ]
  },
  {
   "cell_type": "markdown",
   "metadata": {
    "colab_type": "text",
    "id": "rUyAPH9alIV7"
   },
   "source": [
    "## **Assignment - Part 1, Querying a Database:**"
   ]
  },
  {
   "cell_type": "markdown",
   "metadata": {
    "colab_type": "text",
    "id": "54vbZjFPlUfK"
   },
   "source": [
    "This directory contains a file rpg_db.sqlite3, a database for a hypothetical webapp role-playing game. This test data has dozens-to-hundreds of randomly generated characters across the base classes (Fighter, Mage, Cleric, and Thief) as well as a few Necromancers. Also generated are Items, Weapons, and connections from characters to them. Note that, while the name field was randomized, the numeric and boolean fields were left as defaults.\n",
    "\n",
    "Use sqlite3 to load and write queries to explore the data, and answer the following questions:"
   ]
  },
  {
   "cell_type": "markdown",
   "metadata": {
    "colab_type": "text",
    "id": "5-eO7NTFmKPE"
   },
   "source": [
    "**(1) How many total Characters are there?**"
   ]
  },
  {
   "cell_type": "code",
   "execution_count": 4,
   "metadata": {},
   "outputs": [
    {
     "name": "stdout",
     "output_type": "stream",
     "text": [
      "(1) How many total Characters are there?: 302 Characters\n"
     ]
    }
   ],
   "source": [
    "num_characters = curs.execute(\"\"\"SELECT COUNT(DISTINCT character_id) \n",
    "                            FROM charactercreator_character\"\"\"\n",
    "                        ).fetchall()[0][0]\n",
    "print(f\"(1) How many total Characters are there?: {num_characters} Characters\")"
   ]
  },
  {
   "cell_type": "markdown",
   "metadata": {
    "colab_type": "text",
    "id": "YRptpBpUmN1C"
   },
   "source": [
    "**(2) How many of each specific subclass?**"
   ]
  },
  {
   "cell_type": "code",
   "execution_count": 5,
   "metadata": {},
   "outputs": [
    {
     "name": "stdout",
     "output_type": "stream",
     "text": [
      "(2) How many of each specific subclass (of Character)?\n",
      "# of clerics: 75\n",
      "# of fighters: 68\n",
      "# of thiefs: 51\n",
      "# of mages: 108 (of which 11 are necromancers)\n"
     ]
    }
   ],
   "source": [
    "# SQLite queries to find how many unique characters there are of each character type:\n",
    "num_clerics = curs.execute(\"\"\"SELECT COUNT(DISTINCT character_ptr_id) \n",
    "                              FROM charactercreator_cleric\"\"\"\n",
    "                          ).fetchall()[0][0]\n",
    "\n",
    "num_fighters = curs.execute(\"\"\"SELECT COUNT(DISTINCT character_ptr_id) \n",
    "                               FROM charactercreator_fighter\"\"\"\n",
    "                           ).fetchall()[0][0]\n",
    "\n",
    "num_thiefs = curs.execute(\"\"\"SELECT COUNT(DISTINCT character_ptr_id) \n",
    "                             FROM charactercreator_thief\"\"\"\n",
    "                         ).fetchall()[0][0]\n",
    "\n",
    "num_mages = curs.execute(\"\"\"SELECT COUNT(DISTINCT character_ptr_id) \n",
    "                            FROM charactercreator_mage\"\"\"\n",
    "                        ).fetchall()[0][0]\n",
    "\n",
    "num_mages_necromancers = curs.execute(\"\"\"SELECT COUNT(DISTINCT mage_ptr_id) \n",
    "                                         FROM charactercreator_necromancer\"\"\"\n",
    "                                     ).fetchall()[0][0]\n",
    "\n",
    "# Print answers:\n",
    "print(\"(2) How many of each specific subclass (of Character)?\")\n",
    "print(f\"# of clerics: {num_clerics}\")\n",
    "print(f\"# of fighters: {num_fighters}\")\n",
    "print(f\"# of thiefs: {num_thiefs}\")\n",
    "print(f\"# of mages: {num_mages} (of which {num_mages_necromancers} are necromancers)\")\n",
    "\n",
    "# Check to make sure we covered all characters and type:\n",
    "assert num_characters == num_clerics + num_fighters + num_thiefs + num_mages"
   ]
  },
  {
   "cell_type": "markdown",
   "metadata": {
    "colab_type": "text",
    "id": "Tx2C6iv4mVxK"
   },
   "source": [
    "**(3) How many total Items?**"
   ]
  },
  {
   "cell_type": "code",
   "execution_count": 6,
   "metadata": {
    "colab": {},
    "colab_type": "code",
    "id": "e7GRPbBsmJIP"
   },
   "outputs": [
    {
     "name": "stdout",
     "output_type": "stream",
     "text": [
      "# of unique item types: 174 items (37 weapons, 137 non-weapons)\n",
      "# of total items held by characters in the game: 898 items\n"
     ]
    }
   ],
   "source": [
    "# SQLite queries to find how many unique items, how many of those are weapons, and how many total items \n",
    "# held by characters there are:\n",
    "num_unique_items = curs.execute(\"\"\"SELECT COUNT(DISTINCT item_id) \n",
    "                                   FROM armory_item\"\"\"\n",
    "                               ).fetchall()[0][0]\n",
    "\n",
    "num_weapons = curs.execute(\"\"\"SELECT COUNT(DISTINCT item_ptr_id) \n",
    "                              FROM armory_weapon\"\"\"\n",
    "                          ).fetchall()[0][0]\n",
    "\n",
    "total_items_held = curs.execute(\"\"\"SELECT COUNT(item_id) \n",
    "                                   FROM charactercreator_character_inventory\"\"\"\n",
    "                               ).fetchall()[0][0]\n",
    "\n",
    "# Print answers:\n",
    "print(f\"# of unique item types: {num_unique_items} items ({num_weapons} weapons, {num_unique_items - num_weapons} non-weapons)\")\n",
    "print(f\"# of total items held by characters in the game: {total_items_held} items\")"
   ]
  },
  {
   "cell_type": "markdown",
   "metadata": {
    "colab_type": "text",
    "id": "KFDM3NY0mXu8"
   },
   "source": [
    "**(4) How many of the Items are weapons? How many are not?**"
   ]
  },
  {
   "cell_type": "markdown",
   "metadata": {},
   "source": [
    "See answer to Question #3 above."
   ]
  },
  {
   "cell_type": "markdown",
   "metadata": {
    "colab_type": "text",
    "id": "-WxkualxmZbo"
   },
   "source": [
    "**(5) How many Items does each character have? (Return first 20 rows)**"
   ]
  },
  {
   "cell_type": "code",
   "execution_count": 7,
   "metadata": {
    "colab": {},
    "colab_type": "code",
    "id": "Ut8eEBcymJNT"
   },
   "outputs": [
    {
     "data": {
      "text/html": [
       "<div>\n",
       "<style scoped>\n",
       "    .dataframe tbody tr th:only-of-type {\n",
       "        vertical-align: middle;\n",
       "    }\n",
       "\n",
       "    .dataframe tbody tr th {\n",
       "        vertical-align: top;\n",
       "    }\n",
       "\n",
       "    .dataframe thead th {\n",
       "        text-align: right;\n",
       "    }\n",
       "</style>\n",
       "<table border=\"1\" class=\"dataframe\">\n",
       "  <thead>\n",
       "    <tr style=\"text-align: right;\">\n",
       "      <th></th>\n",
       "      <th>character_id</th>\n",
       "      <th>num_items_held</th>\n",
       "    </tr>\n",
       "  </thead>\n",
       "  <tbody>\n",
       "    <tr>\n",
       "      <th>0</th>\n",
       "      <td>1</td>\n",
       "      <td>3</td>\n",
       "    </tr>\n",
       "    <tr>\n",
       "      <th>1</th>\n",
       "      <td>2</td>\n",
       "      <td>3</td>\n",
       "    </tr>\n",
       "    <tr>\n",
       "      <th>2</th>\n",
       "      <td>3</td>\n",
       "      <td>2</td>\n",
       "    </tr>\n",
       "    <tr>\n",
       "      <th>3</th>\n",
       "      <td>4</td>\n",
       "      <td>4</td>\n",
       "    </tr>\n",
       "    <tr>\n",
       "      <th>4</th>\n",
       "      <td>5</td>\n",
       "      <td>4</td>\n",
       "    </tr>\n",
       "    <tr>\n",
       "      <th>5</th>\n",
       "      <td>6</td>\n",
       "      <td>1</td>\n",
       "    </tr>\n",
       "    <tr>\n",
       "      <th>6</th>\n",
       "      <td>7</td>\n",
       "      <td>5</td>\n",
       "    </tr>\n",
       "    <tr>\n",
       "      <th>7</th>\n",
       "      <td>8</td>\n",
       "      <td>3</td>\n",
       "    </tr>\n",
       "    <tr>\n",
       "      <th>8</th>\n",
       "      <td>9</td>\n",
       "      <td>4</td>\n",
       "    </tr>\n",
       "    <tr>\n",
       "      <th>9</th>\n",
       "      <td>10</td>\n",
       "      <td>4</td>\n",
       "    </tr>\n",
       "    <tr>\n",
       "      <th>10</th>\n",
       "      <td>11</td>\n",
       "      <td>3</td>\n",
       "    </tr>\n",
       "    <tr>\n",
       "      <th>11</th>\n",
       "      <td>12</td>\n",
       "      <td>3</td>\n",
       "    </tr>\n",
       "    <tr>\n",
       "      <th>12</th>\n",
       "      <td>13</td>\n",
       "      <td>4</td>\n",
       "    </tr>\n",
       "    <tr>\n",
       "      <th>13</th>\n",
       "      <td>14</td>\n",
       "      <td>4</td>\n",
       "    </tr>\n",
       "    <tr>\n",
       "      <th>14</th>\n",
       "      <td>15</td>\n",
       "      <td>4</td>\n",
       "    </tr>\n",
       "    <tr>\n",
       "      <th>15</th>\n",
       "      <td>16</td>\n",
       "      <td>1</td>\n",
       "    </tr>\n",
       "    <tr>\n",
       "      <th>16</th>\n",
       "      <td>17</td>\n",
       "      <td>5</td>\n",
       "    </tr>\n",
       "    <tr>\n",
       "      <th>17</th>\n",
       "      <td>18</td>\n",
       "      <td>5</td>\n",
       "    </tr>\n",
       "    <tr>\n",
       "      <th>18</th>\n",
       "      <td>19</td>\n",
       "      <td>3</td>\n",
       "    </tr>\n",
       "    <tr>\n",
       "      <th>19</th>\n",
       "      <td>20</td>\n",
       "      <td>1</td>\n",
       "    </tr>\n",
       "  </tbody>\n",
       "</table>\n",
       "</div>"
      ],
      "text/plain": [
       "    character_id  num_items_held\n",
       "0              1               3\n",
       "1              2               3\n",
       "2              3               2\n",
       "3              4               4\n",
       "4              5               4\n",
       "5              6               1\n",
       "6              7               5\n",
       "7              8               3\n",
       "8              9               4\n",
       "9             10               4\n",
       "10            11               3\n",
       "11            12               3\n",
       "12            13               4\n",
       "13            14               4\n",
       "14            15               4\n",
       "15            16               1\n",
       "16            17               5\n",
       "17            18               5\n",
       "18            19               3\n",
       "19            20               1"
      ]
     },
     "execution_count": 7,
     "metadata": {},
     "output_type": "execute_result"
    }
   ],
   "source": [
    "# SQLite query to find how many total items each character has:\n",
    "query_05_results = curs.execute(\"\"\"SELECT character_id, COUNT(item_id) \n",
    "                                   FROM charactercreator_character_inventory \n",
    "                                   GROUP BY character_id \n",
    "                                   ORDER BY character_id \n",
    "                                   LIMIT 20\"\"\"\n",
    "                               ).fetchall()\n",
    "\n",
    "# Display results as a table by making into a pandas dataframe:\n",
    "pd.DataFrame(query_05_results, columns=['character_id', 'num_items_held'])"
   ]
  },
  {
   "cell_type": "markdown",
   "metadata": {
    "colab_type": "text",
    "id": "WvBogJhRmbPn"
   },
   "source": [
    "**(6) How many Weapons does each character have? (Return first 20 rows)**"
   ]
  },
  {
   "cell_type": "code",
   "execution_count": 8,
   "metadata": {},
   "outputs": [
    {
     "data": {
      "text/html": [
       "<div>\n",
       "<style scoped>\n",
       "    .dataframe tbody tr th:only-of-type {\n",
       "        vertical-align: middle;\n",
       "    }\n",
       "\n",
       "    .dataframe tbody tr th {\n",
       "        vertical-align: top;\n",
       "    }\n",
       "\n",
       "    .dataframe thead th {\n",
       "        text-align: right;\n",
       "    }\n",
       "</style>\n",
       "<table border=\"1\" class=\"dataframe\">\n",
       "  <thead>\n",
       "    <tr style=\"text-align: right;\">\n",
       "      <th></th>\n",
       "      <th>character_id</th>\n",
       "      <th>num_weapons_held</th>\n",
       "    </tr>\n",
       "  </thead>\n",
       "  <tbody>\n",
       "    <tr>\n",
       "      <th>0</th>\n",
       "      <td>5</td>\n",
       "      <td>2</td>\n",
       "    </tr>\n",
       "    <tr>\n",
       "      <th>1</th>\n",
       "      <td>7</td>\n",
       "      <td>1</td>\n",
       "    </tr>\n",
       "    <tr>\n",
       "      <th>2</th>\n",
       "      <td>11</td>\n",
       "      <td>1</td>\n",
       "    </tr>\n",
       "    <tr>\n",
       "      <th>3</th>\n",
       "      <td>20</td>\n",
       "      <td>1</td>\n",
       "    </tr>\n",
       "    <tr>\n",
       "      <th>4</th>\n",
       "      <td>22</td>\n",
       "      <td>1</td>\n",
       "    </tr>\n",
       "    <tr>\n",
       "      <th>...</th>\n",
       "      <td>...</td>\n",
       "      <td>...</td>\n",
       "    </tr>\n",
       "    <tr>\n",
       "      <th>150</th>\n",
       "      <td>294</td>\n",
       "      <td>2</td>\n",
       "    </tr>\n",
       "    <tr>\n",
       "      <th>151</th>\n",
       "      <td>295</td>\n",
       "      <td>1</td>\n",
       "    </tr>\n",
       "    <tr>\n",
       "      <th>152</th>\n",
       "      <td>296</td>\n",
       "      <td>1</td>\n",
       "    </tr>\n",
       "    <tr>\n",
       "      <th>153</th>\n",
       "      <td>301</td>\n",
       "      <td>1</td>\n",
       "    </tr>\n",
       "    <tr>\n",
       "      <th>154</th>\n",
       "      <td>302</td>\n",
       "      <td>1</td>\n",
       "    </tr>\n",
       "  </tbody>\n",
       "</table>\n",
       "<p>155 rows × 2 columns</p>\n",
       "</div>"
      ],
      "text/plain": [
       "     character_id  num_weapons_held\n",
       "0               5                 2\n",
       "1               7                 1\n",
       "2              11                 1\n",
       "3              20                 1\n",
       "4              22                 1\n",
       "..            ...               ...\n",
       "150           294                 2\n",
       "151           295                 1\n",
       "152           296                 1\n",
       "153           301                 1\n",
       "154           302                 1\n",
       "\n",
       "[155 rows x 2 columns]"
      ]
     },
     "execution_count": 8,
     "metadata": {},
     "output_type": "execute_result"
    }
   ],
   "source": [
    "# SQLite query to find how many weapons each character has:\n",
    "query_06_results = curs.execute(\"\"\"SELECT inventory.character_id, COUNT(inventory.item_id) \n",
    "                                   FROM charactercreator_character_inventory AS inventory \n",
    "                                   WHERE inventory.item_id IN (SELECT item_ptr_id FROM armory_weapon) \n",
    "                                   GROUP BY inventory.character_id\"\"\"\n",
    "                               ).fetchall()\n",
    "\n",
    "# Display results as a table by making into a pandas dataframe:\n",
    "pd.DataFrame(query_06_results, columns=['character_id', 'num_weapons_held'])"
   ]
  },
  {
   "cell_type": "code",
   "execution_count": 9,
   "metadata": {},
   "outputs": [],
   "source": [
    "# [?? To do: How would I find the above, except including all characters, incl. those with 0 weapons, \n",
    "# and showing that ??]"
   ]
  },
  {
   "cell_type": "code",
   "execution_count": 10,
   "metadata": {},
   "outputs": [
    {
     "data": {
      "text/plain": [
       "[(5, 2),\n",
       " (7, 1),\n",
       " (11, 1),\n",
       " (20, 1),\n",
       " (22, 1),\n",
       " (23, 1),\n",
       " (26, 1),\n",
       " (27, 3),\n",
       " (29, 2),\n",
       " (30, 1),\n",
       " (32, 1),\n",
       " (34, 1),\n",
       " (35, 2),\n",
       " (36, 3),\n",
       " (37, 2),\n",
       " (38, 2),\n",
       " (39, 2),\n",
       " (40, 1),\n",
       " (41, 1),\n",
       " (47, 1)]"
      ]
     },
     "execution_count": 10,
     "metadata": {},
     "output_type": "execute_result"
    }
   ],
   "source": [
    "# CHECK answer (BUT don't use this syntax -- BETWEEN 138 AND 174 isn't as good as directly \n",
    "# checking if item_id is in weapons):\n",
    "curs.execute(\"\"\"SELECT character_id, \n",
    "                COUNT(item_id) \n",
    "                FROM charactercreator_character_inventory \n",
    "                WHERE item_id BETWEEN 138 AND 174 \n",
    "                GROUP BY character_id \n",
    "                ORDER BY character_id \n",
    "                LIMIT 20\"\"\"\n",
    "            ).fetchall()"
   ]
  },
  {
   "cell_type": "markdown",
   "metadata": {
    "colab_type": "text",
    "id": "ukKccKSZmdLz"
   },
   "source": [
    "**(7) On average, how many Items does each Character have?**"
   ]
  },
  {
   "cell_type": "code",
   "execution_count": 11,
   "metadata": {},
   "outputs": [
    {
     "name": "stdout",
     "output_type": "stream",
     "text": [
      "Average # of items held per character: 2.97 items\n"
     ]
    }
   ],
   "source": [
    "# SQLite query to find avg. # of items held per character:\n",
    "avg_items_per_character = curs.execute(\"\"\"SELECT CAST(COUNT(item_id) AS FLOAT) / COUNT(DISTINCT character_id) \n",
    "                                          FROM charactercreator_character_inventory\"\"\"\n",
    "                                      ).fetchall()[0][0]\n",
    "\n",
    "# Print answer:\n",
    "print(f\"Average # of items held per character: {avg_items_per_character:.2f} items\")\n",
    "\n",
    "# CHECK answer:\n",
    "# Avg. items per character: 898 total items held / 302 characters = 2.9735099337748343\n",
    "assert avg_items_per_character == total_items_held / num_characters == 898 / 302"
   ]
  },
  {
   "cell_type": "markdown",
   "metadata": {
    "colab_type": "text",
    "id": "UzDAEBbvmejm"
   },
   "source": [
    "**(8) On average, how many Weapons does each character have?**"
   ]
  },
  {
   "cell_type": "code",
   "execution_count": 12,
   "metadata": {},
   "outputs": [
    {
     "name": "stdout",
     "output_type": "stream",
     "text": [
      "Avg. # of weapons per character: 0.67 weapons\n"
     ]
    }
   ],
   "source": [
    "# Execute SQLite query to find avg. # of weapons held per character (all characters):\n",
    "avg_weap_per_char = curs.execute(\"\"\"SELECT CAST(COUNT(item_id) AS FLOAT) \n",
    "                                    / (SELECT COUNT(DISTINCT character_id) FROM charactercreator_character_inventory) \n",
    "                                    FROM charactercreator_character_inventory as inventory \n",
    "                                    WHERE item_id IN (SELECT item_ptr_id FROM armory_weapon)\"\"\"\n",
    "                                ).fetchall()[0][0]\n",
    "\n",
    "# Print answer:\n",
    "print(f\"Avg. # of weapons per character: {avg_weap_per_char:.2f} weapons\")\n",
    "\n",
    "# CHECK answer:\n",
    "# Avg. weapons per character (all characters): 203 total weapons held / 302 characters = 0.6721854304635762\n",
    "assert avg_weap_per_char == 203 / 302"
   ]
  },
  {
   "cell_type": "code",
   "execution_count": 13,
   "metadata": {},
   "outputs": [
    {
     "name": "stdout",
     "output_type": "stream",
     "text": [
      "Avg. # of weapons per weapon-holding character: 1.31 weapons\n"
     ]
    }
   ],
   "source": [
    "# Execute SQLite query to find avg. # of weapons held per weapon-holding character:\n",
    "avg_weap_per_weap_holder = curs.execute(\"\"\"SELECT CAST(COUNT(item_id) AS FLOAT) / COUNT(DISTINCT character_id)\n",
    "                                      FROM charactercreator_character_inventory \n",
    "                                      WHERE item_id IN (SELECT item_ptr_id FROM armory_weapon)\"\"\"\n",
    "                                  ).fetchall()[0][0]\n",
    "\n",
    "# Print answer:\n",
    "print(f\"Avg. # of weapons per weapon-holding character: {avg_weap_per_weap_holder:.2f} weapons\")\n",
    "\n",
    "# CHECK answer:\n",
    "# Avg. weapons per weapon-holding character: 203 weapons held / 155 weapon-holding characters = 1.3096774193548386\n",
    "assert avg_weap_per_weap_holder == 203 / 155"
   ]
  }
 ],
 "metadata": {
  "colab": {
   "collapsed_sections": [],
   "name": "Assignment - DS 321 - Introduction to SQL (SQLite Portion).ipynb",
   "provenance": []
  },
  "kernelspec": {
   "display_name": "Python 3",
   "language": "python",
   "name": "python3"
  },
  "language_info": {
   "codemirror_mode": {
    "name": "ipython",
    "version": 3
   },
   "file_extension": ".py",
   "mimetype": "text/x-python",
   "name": "python",
   "nbconvert_exporter": "python",
   "pygments_lexer": "ipython3",
   "version": "3.7.3"
  }
 },
 "nbformat": 4,
 "nbformat_minor": 1
}

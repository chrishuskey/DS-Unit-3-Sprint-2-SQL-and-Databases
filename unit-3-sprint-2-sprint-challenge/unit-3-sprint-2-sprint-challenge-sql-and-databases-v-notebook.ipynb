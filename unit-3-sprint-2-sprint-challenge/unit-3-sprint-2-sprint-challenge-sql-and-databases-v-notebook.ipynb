{
 "cells": [
  {
   "cell_type": "markdown",
   "metadata": {},
   "source": [
    "# LSDS Unit 3, Sprint 2 - SQL and Databases - Sprint Challenge (Chris Huskey)"
   ]
  },
  {
   "cell_type": "markdown",
   "metadata": {},
   "source": [
    "### Part 1 - Making and populating a Database:\n",
    "\n",
    "Consider the following data:\n",
    "\n",
    "| s   | x | y |\n",
    "|-----|---|---|\n",
    "| 'g' | 3 | 9 |\n",
    "| 'v' | 5 | 7 |\n",
    "| 'f' | 8 | 7 |\n",
    "\n",
    "Using the standard `sqlite3` module:\n",
    "\n",
    "- Open a connection to a new (blank) database file `demo_data.sqlite3`\n",
    "- Make a cursor, and execute an appropriate `CREATE TABLE` statement to accept\n",
    "  the above data (name the table `demo`)\n",
    "- Write and execute appropriate `INSERT INTO` statements to add the data (as\n",
    "  shown above) to the database\n",
    "\n",
    "Make sure to `commit()` so your data is saved! The file size should be non-zero.\n",
    "\n",
    "Then write the following queries (also with `sqlite3`) to test:\n",
    "\n",
    "- Count how many rows you have - it should be 3!\n",
    "- How many rows are there where both `x` and `y` are at least 5?\n",
    "- How many unique values of `y` are there (hint - `COUNT()` can accept a keyword\n",
    "  `DISTINCT`)?\n",
    "\n",
    "Your code (to reproduce all above steps) should be saved in `demo_data.py` and\n",
    "added to the repository along with the generated SQLite database."
   ]
  },
  {
   "cell_type": "code",
   "execution_count": 1,
   "metadata": {},
   "outputs": [],
   "source": [
    "import sqlite3"
   ]
  },
  {
   "cell_type": "code",
   "execution_count": 2,
   "metadata": {},
   "outputs": [],
   "source": [
    "# Open up a new connection to our SQLite DB:\n",
    "conn_demodb = sqlite3.connect('demo_data.sqlite3')"
   ]
  },
  {
   "cell_type": "code",
   "execution_count": 3,
   "metadata": {},
   "outputs": [],
   "source": [
    "# Open up a cursor for the connection:\n",
    "curs = conn_demodb.cursor()"
   ]
  },
  {
   "cell_type": "code",
   "execution_count": 5,
   "metadata": {},
   "outputs": [],
   "source": [
    "# Create new table name demo in our SQLite DB demo_data.sqlite3 \n",
    "# for the Part 1 demo data:\n",
    "curs.execute(\n",
    "    \"\"\"\n",
    "    CREATE TABLE demo (\n",
    "        s  VARCHAR(50)  NOT NULL, \n",
    "        x  INT          NOT NULL, \n",
    "        y  INT          NOT NULL\n",
    "    );\n",
    "    \"\"\"\n",
    ")\n",
    "\n",
    "# And commit the connection to our DB:\n",
    "conn_demodb.commit()"
   ]
  },
  {
   "cell_type": "code",
   "execution_count": 6,
   "metadata": {},
   "outputs": [
    {
     "data": {
      "text/plain": [
       "<sqlite3.Cursor at 0x10d90fb20>"
      ]
     },
     "execution_count": 6,
     "metadata": {},
     "output_type": "execute_result"
    }
   ],
   "source": [
    "# Insert the Part 1 demo data into our demo table:\n",
    "curs.execute(\n",
    "    \"\"\"\n",
    "    INSERT INTO demo(s, x, y) \n",
    "    VALUES \n",
    "    ('g', 3, 9), \n",
    "    ('v', 5, 7), \n",
    "    ('f', 8, 7)\n",
    "    ;\n",
    "    \"\"\"\n",
    ")"
   ]
  },
  {
   "cell_type": "code",
   "execution_count": 11,
   "metadata": {},
   "outputs": [
    {
     "data": {
      "text/plain": [
       "[('g', 3, 9), ('v', 5, 7), ('f', 8, 7)]"
      ]
     },
     "execution_count": 11,
     "metadata": {},
     "output_type": "execute_result"
    }
   ],
   "source": [
    "# Check to make sure our DB includes the data inserted above:\n",
    "curs.execute(\n",
    "    \"\"\"\n",
    "    SELECT * FROM demo;\n",
    "    \"\"\"\n",
    ").fetchall()"
   ]
  },
  {
   "cell_type": "code",
   "execution_count": 52,
   "metadata": {},
   "outputs": [
    {
     "name": "stdout",
     "output_type": "stream",
     "text": [
      "Query #1: How many rows does our demo table have?\n",
      "3 rows\n",
      "\n",
      "Query #2: How many rows where both x and y are at least 5?\n",
      "2 rows\n",
      "\n",
      "Query #3: How many unique values of y are there?\n",
      "2 unique values of y\n"
     ]
    }
   ],
   "source": [
    "# Query #1: How many rows does our demo table have?\n",
    "print(\"Query #1: How many rows does our demo table have?\")\n",
    "\n",
    "# Should be 3 rows:\n",
    "assert demo_num_rows == 3\n",
    "\n",
    "# Print result:\n",
    "demo_num_rows = curs.execute(\n",
    "    \"\"\"\n",
    "    SELECT COUNT(*) \n",
    "    FROM demo\n",
    "    ;\n",
    "    \"\"\"\n",
    ").fetchone()[0]\n",
    "print(f\"{demo_num_rows} rows\")\n",
    "\n",
    "# -------------------------------------------------------\n",
    "\n",
    "# Query #2: How many rows are there where \n",
    "# both x and y are at least 5?\n",
    "print(\"\"\"\\nQuery #2: How many rows where both x and y are at least 5?\"\"\")\n",
    "\n",
    "# Print answer:\n",
    "query02_rows = curs.execute(\n",
    "    \"\"\"\n",
    "    SELECT COUNT(*) \n",
    "    FROM demo \n",
    "    WHERE (x >= 5) AND (y >= 5)\n",
    "    ;\n",
    "    \"\"\"\n",
    ").fetchall()[0][0]\n",
    "print(f\"{query02_rows} rows\")\n",
    "\n",
    "# -------------------------------------------------------\n",
    "\n",
    "# Query #3: How many unique values of y are there \n",
    "# (hint - COUNT() can accept a keyword DISTINCT)?\n",
    "print(\"\\nQuery #3: How many unique values of y are there?\")\n",
    "\n",
    "# Print result:\n",
    "query03_rows = curs.execute(\n",
    "    \"\"\"\n",
    "    SELECT COUNT(DISTINCT y) \n",
    "    FROM demo\n",
    "    ;\n",
    "    \"\"\"\n",
    ").fetchone()[0]\n",
    "print(f\"{query03_rows} unique values of y\")"
   ]
  },
  {
   "cell_type": "code",
   "execution_count": 5,
   "metadata": {},
   "outputs": [],
   "source": [
    "# Close our cursor, commit the connection, \n",
    "# close the connection:\n",
    "curs.close()\n",
    "conn_demodb.commit()\n",
    "conn_demodb.close()"
   ]
  },
  {
   "cell_type": "markdown",
   "metadata": {},
   "source": [
    "### Part 2 - The Northwind Database\n",
    "\n",
    "Using `sqlite3`, connect to the given `northwind_small.sqlite3` database.\n",
    "\n",
    "![Northwind Entity-Relationship Diagram](./northwind_erd.png)\n",
    "\n",
    "Above is an entity-relationship diagram - a picture summarizing the schema and\n",
    "relationships in the database. Note that it was generated using Microsoft\n",
    "Access, and some of the specific table/field names are different in the provided\n",
    "data. You can see all the tables available to SQLite as follows:\n",
    "\n",
    "```python\n",
    ">>> curs.execute(\"SELECT name FROM sqlite_master WHERE type='table' ORDER BY\n",
    "name;\").fetchall()\n",
    "[('Category',), ('Customer',), ('CustomerCustomerDemo',),\n",
    "('CustomerDemographic',), ('Employee',), ('EmployeeTerritory',), ('Order',),\n",
    "('OrderDetail',), ('Product',), ('Region',), ('Shipper',), ('Supplier',),\n",
    "('Territory',)]\n",
    "```\n",
    "\n",
    "*Warning*: unlike the diagram, the tables in SQLite are singular and not plural\n",
    "(do not end in `s`). And you can see the schema (`CREATE TABLE` statement)\n",
    "behind any given table with:\n",
    "```python\n",
    ">>> curs.execute('SELECT sql FROM sqlite_master WHERE name=\"Customer\";').fetchall()\n",
    "[('CREATE TABLE \"Customer\" \\n(\\n  \"Id\" VARCHAR(8000) PRIMARY KEY, \\n\n",
    "\"CompanyName\" VARCHAR(8000) NULL, \\n  \"ContactName\" VARCHAR(8000) NULL, \\n\n",
    "\"ContactTitle\" VARCHAR(8000) NULL, \\n  \"Address\" VARCHAR(8000) NULL, \\n  \"City\"\n",
    "VARCHAR(8000) NULL, \\n  \"Region\" VARCHAR(8000) NULL, \\n  \"PostalCode\"\n",
    "VARCHAR(8000) NULL, \\n  \"Country\" VARCHAR(8000) NULL, \\n  \"Phone\" VARCHAR(8000)\n",
    "NULL, \\n  \"Fax\" VARCHAR(8000) NULL \\n)',)]\n",
    "```\n",
    "\n",
    "In particular note that the *primary* key is `Id`, and not `CustomerId`. On\n",
    "other tables (where it is a *foreign* key) it will be `CustomerId`. Also note -\n",
    "the `Order` table conflicts with the `ORDER` keyword! We'll just avoid that\n",
    "particular table, but it's a good lesson in the danger of keyword conflicts.\n",
    "\n",
    "Answer the following questions (each is from a single table):\n",
    "\n",
    "- What are the ten most expensive items (per unit price) in the database?\n",
    "- What is the average age of an employee at the time of their hiring? (Hint: a\n",
    "  lot of arithmetic works with dates.)\n",
    "- (*Stretch*) How does the average age of employee at hire vary by city?\n",
    "\n",
    "Your code (to load and query the data) should be saved in `northwind.py`, and\n",
    "added to the repository. Do your best to answer in purely SQL, but if necessary\n",
    "use Python/other logic to help."
   ]
  },
  {
   "cell_type": "code",
   "execution_count": 6,
   "metadata": {},
   "outputs": [],
   "source": [
    "import sqlite3"
   ]
  },
  {
   "cell_type": "code",
   "execution_count": 7,
   "metadata": {},
   "outputs": [],
   "source": [
    "# Open up a new connection to our northwind_small.sqlite3 SQLite DB:\n",
    "conn_northwind = sqlite3.connect('northwind_small.sqlite3')"
   ]
  },
  {
   "cell_type": "code",
   "execution_count": 8,
   "metadata": {},
   "outputs": [],
   "source": [
    "# Open up a cursor for the connection:\n",
    "curs = conn_northwind.cursor()"
   ]
  },
  {
   "cell_type": "code",
   "execution_count": 9,
   "metadata": {},
   "outputs": [
    {
     "data": {
      "text/plain": [
       "[('Category',),\n",
       " ('Customer',),\n",
       " ('CustomerCustomerDemo',),\n",
       " ('CustomerDemographic',),\n",
       " ('Employee',),\n",
       " ('EmployeeTerritory',),\n",
       " ('Order',),\n",
       " ('OrderDetail',),\n",
       " ('Product',),\n",
       " ('Region',),\n",
       " ('Shipper',),\n",
       " ('Supplier',),\n",
       " ('Territory',)]"
      ]
     },
     "execution_count": 9,
     "metadata": {},
     "output_type": "execute_result"
    }
   ],
   "source": [
    "# List all the tables we have in our DB:\n",
    "nw_list_of_tables = curs.execute(\n",
    "    \"\"\"\n",
    "    SELECT name \n",
    "    FROM sqlite_master \n",
    "    WHERE type='table' \n",
    "    ORDER BY name\n",
    "    ;\n",
    "    \"\"\"\n",
    ").fetchall()\n",
    "\n",
    "# Check to make sure they include all tables in the prompt:\n",
    "assert nw_list_of_tables == [('Category',), ('Customer',), ('CustomerCustomerDemo',),\n",
    "('CustomerDemographic',), ('Employee',), ('EmployeeTerritory',), ('Order',),\n",
    "('OrderDetail',), ('Product',), ('Region',), ('Shipper',), ('Supplier',),\n",
    "('Territory',)]\n",
    "\n",
    "# Display names of all tables in our DB:\n",
    "nw_list_of_tables"
   ]
  },
  {
   "cell_type": "code",
   "execution_count": 69,
   "metadata": {},
   "outputs": [
    {
     "data": {
      "text/plain": [
       "[('CREATE TABLE \"Customer\" \\n(\\n  \"Id\" VARCHAR(8000) PRIMARY KEY, \\n  \"CompanyName\" VARCHAR(8000) NULL, \\n  \"ContactName\" VARCHAR(8000) NULL, \\n  \"ContactTitle\" VARCHAR(8000) NULL, \\n  \"Address\" VARCHAR(8000) NULL, \\n  \"City\" VARCHAR(8000) NULL, \\n  \"Region\" VARCHAR(8000) NULL, \\n  \"PostalCode\" VARCHAR(8000) NULL, \\n  \"Country\" VARCHAR(8000) NULL, \\n  \"Phone\" VARCHAR(8000) NULL, \\n  \"Fax\" VARCHAR(8000) NULL \\n)',)]"
      ]
     },
     "execution_count": 69,
     "metadata": {},
     "output_type": "execute_result"
    }
   ],
   "source": [
    "# Take a look at the original CREATE TABLE statement \n",
    "# used to create the 'Customer' table in our DB:\n",
    "curs.execute(\n",
    "    \"\"\"SELECT sql \n",
    "    FROM sqlite_master \n",
    "    WHERE name='Customer'\n",
    "    ;\n",
    "    \"\"\"\n",
    ").fetchall()\n",
    "\n",
    "# CHECK: Should be (as per the prompt):\n",
    "# [('CREATE TABLE \"Customer\" \\n(\\n  \"Id\" VARCHAR(8000) PRIMARY KEY, \\n\n",
    "# \"CompanyName\" VARCHAR(8000) NULL, \\n  \"ContactName\" VARCHAR(8000) NULL, \\n\n",
    "# \"ContactTitle\" VARCHAR(8000) NULL, \\n  \"Address\" VARCHAR(8000) NULL, \\n  \"City\"\n",
    "# VARCHAR(8000) NULL, \\n  \"Region\" VARCHAR(8000) NULL, \\n  \"PostalCode\"\n",
    "# VARCHAR(8000) NULL, \\n  \"Country\" VARCHAR(8000) NULL, \\n  \"Phone\" VARCHAR(8000)\n",
    "# NULL, \\n  \"Fax\" VARCHAR(8000) NULL \\n)',)]"
   ]
  },
  {
   "cell_type": "code",
   "execution_count": 111,
   "metadata": {},
   "outputs": [
    {
     "name": "stdout",
     "output_type": "stream",
     "text": [
      "Query #1: What are the ten most expensive items in the database?\n",
      "Côte de Blaye\n",
      "Thüringer Rostbratwurst\n",
      "Mishi Kobe Niku\n",
      "Sir Rodney's Marmalade\n",
      "Carnarvon Tigers\n",
      "Raclette Courdavault\n",
      "Manjimup Dried Apples\n",
      "Tarte au sucre\n",
      "Ipoh Coffee\n",
      "Rössle Sauerkraut\n",
      "\n",
      "Query #2: What is the avg. age of an employee at the time of hiring?\n",
      "Employees' avg. age at hiring date: 37.0\n"
     ]
    }
   ],
   "source": [
    "# Query #1: What are the ten most expensive items \n",
    "# (per unit price) in the database?\n",
    "print(\"Query #1: What are the ten most expensive items in the database?\")\n",
    "most_expensive_products = curs.execute(\n",
    "    \"\"\"\n",
    "    SELECT ProductName \n",
    "    FROM Product, Supplier \n",
    "    WHERE Product.SupplierId = Supplier.Id \n",
    "    ORDER BY UnitPrice DESC \n",
    "    LIMIT 10\n",
    "    ;\n",
    "    \"\"\"\n",
    ").fetchall()\n",
    "\n",
    "# Include the product names in the list, by pulling the \n",
    "# product names out of the tuples returned by fetchall() above:\n",
    "for item_num in range(len(most_expensive_products)):\n",
    "    most_expensive_products[item_num] = most_expensive_products[item_num][0]\n",
    "\n",
    "# Print answer:\n",
    "for product in most_expensive_products:\n",
    "    print(product)\n",
    "\n",
    "# -------------------------------------------------------\n",
    "\n",
    "# Query #2: What is the average age of an employee at the \n",
    "# time of their hiring?\n",
    "print(\"\\nQuery #2: What is the avg. age of an employee at the time of hiring?\")\n",
    "avg_age_at_hiring = curs.execute(\n",
    "    \"\"\"\n",
    "    SELECT AVG(AgeAtHiring) \n",
    "    FROM (SELECT (HireDate - BirthDate) AS AgeAtHiring FROM Employee)\n",
    "    ;\n",
    "    \"\"\"\n",
    ").fetchone()[0]\n",
    "\n",
    "# Print answer:\n",
    "print(f\"Employees' avg. age at hiring date: {round(avg_age_at_hiring, 0)}\")\n",
    "\n",
    "# -------------------------------------------------------\n",
    "\n",
    "# (Stretch) \n",
    "# Query #3: How does the average age of employee at hire vary by city?"
   ]
  },
  {
   "cell_type": "markdown",
   "metadata": {},
   "source": [
    "### Part 3 - Sailing the Northwind Seas\n",
    "\n",
    "You've answered some basic questions from the Northwind database, looking at\n",
    "individual tables - now it's time to put things together, and `JOIN`!\n",
    "\n",
    "Using `sqlite3` in `northwind.py`, answer the following:\n",
    "\n",
    "- What are the ten most expensive items (per unit price) in the database *and*\n",
    "  their suppliers?\n",
    "- What is the largest category (by number of unique products in it)?\n",
    "- (*Stretch*) Who's the employee with the most territories? Use `TerritoryId`\n",
    "  (not name, region, or other fields) as the unique identifier for territories."
   ]
  },
  {
   "cell_type": "code",
   "execution_count": 134,
   "metadata": {},
   "outputs": [
    {
     "name": "stdout",
     "output_type": "stream",
     "text": [
      "Query #1: What are the ten most expensive items in the database AND their suppliers?\n",
      "1. Côte de Blaye (Supplier: Aux joyeux ecclésiastiques)\n",
      "2. Thüringer Rostbratwurst (Supplier: Plutzer Lebensmittelgroßmärkte AG)\n",
      "3. Mishi Kobe Niku (Supplier: Tokyo Traders)\n",
      "4. Sir Rodney's Marmalade (Supplier: Specialty Biscuits, Ltd.)\n",
      "5. Carnarvon Tigers (Supplier: Pavlova, Ltd.)\n",
      "6. Raclette Courdavault (Supplier: Gai pâturage)\n",
      "7. Manjimup Dried Apples (Supplier: G'day, Mate)\n",
      "8. Tarte au sucre (Supplier: Forêts d'érables)\n",
      "9. Ipoh Coffee (Supplier: Leka Trading)\n",
      "10. Rössle Sauerkraut (Supplier: Plutzer Lebensmittelgroßmärkte AG)\n",
      "\n",
      "Query #2: What is the largest category (by number of unique products in it)?\n",
      "Largest category: Confections (13 unique products)\n"
     ]
    }
   ],
   "source": [
    "# Query #1: What are the ten most expensive items \n",
    "# (per unit price) in the database AND their suppliers?\n",
    "print(\"Query #1: What are the ten most expensive items in the database AND their suppliers?\")\n",
    "most_expensive_with_suppliers = curs.execute(\n",
    "    \"\"\"\n",
    "    SELECT ProductName, Supplier.CompanyName \n",
    "    FROM Product, Supplier \n",
    "    WHERE Product.SupplierId = Supplier.Id \n",
    "    ORDER BY UnitPrice DESC \n",
    "    LIMIT 10\n",
    "    ;\n",
    "    \"\"\"\n",
    ").fetchall()\n",
    "\n",
    "# Print answer:\n",
    "product_num = 1\n",
    "for product in most_expensive_with_suppliers:\n",
    "    print(f\"{product_num}. {product[0]} (Supplier: {product[1]})\")\n",
    "    product_num += 1\n",
    "\n",
    "# -------------------------------------------------------\n",
    "\n",
    "# Query #2: What is the largest category (by # of unique products in it)?\n",
    "print(\"\\nQuery #2: What is the largest category (by number of unique products in it)?\")\n",
    "largest_category = curs.execute(\n",
    "    \"\"\"\n",
    "    SELECT CategoryName, MAX(num_products) \n",
    "    FROM \n",
    "    (SELECT COUNT(DISTINCT Product.Id) AS num_products, Category.CategoryName\n",
    "    FROM Product, Category \n",
    "    WHERE Product.CategoryId = Category.Id \n",
    "    GROUP BY CategoryId \n",
    "    ORDER BY num_products DESC)\n",
    "    ;\n",
    "    \"\"\"\n",
    ").fetchone()\n",
    "\n",
    "# Print answer:\n",
    "print(f\"Largest category: {largest_category[0]} ({largest_category[1]} unique products)\")\n",
    "\n",
    "# -------------------------------------------------------\n",
    "\n",
    "# (Stretch)\n",
    "# Query #3: Who's the employee with the most territories? \n",
    "# Use TerritoryId (not name, region, or other fields) as the \n",
    "# unique identifier for territories."
   ]
  },
  {
   "cell_type": "code",
   "execution_count": 135,
   "metadata": {},
   "outputs": [],
   "source": [
    "# Close our cursor, commit the connection, \n",
    "# close the connection:\n",
    "conn_northwind.commit()\n",
    "curs.close()\n",
    "conn_northwind.close()"
   ]
  },
  {
   "cell_type": "markdown",
   "metadata": {},
   "source": [
    "### Part 4 - Questions (and your Answers)\n",
    "\n",
    "Answer the following questions, baseline ~3-5 sentences each, as if they were\n",
    "interview screening questions (a form you fill when applying for a job):\n",
    "\n",
    "- In the Northwind database, what is the type of relationship between the\n",
    "  `Employee` and `Territory` tables?\n",
    "- What is a situation where a document store (like MongoDB) is appropriate, and\n",
    "  what is a situation where it is not appropriate?\n",
    "- What is \"NewSQL\", and what is it trying to achieve?"
   ]
  },
  {
   "cell_type": "code",
   "execution_count": null,
   "metadata": {},
   "outputs": [],
   "source": [
    "# See markdown file."
   ]
  },
  {
   "cell_type": "code",
   "execution_count": null,
   "metadata": {},
   "outputs": [],
   "source": [
    "Question #1: In the Northwind database, what is the type of \n",
    "relationship between the `Employee` and `Territory` tables?\n",
    "\n",
    "Answer:\n",
    "The Territory table is connected to the Employee Territory \n",
    "table via TerritoryId (key Id in the Territory table = TerritoryId \n",
    "in the EmployeeTerritory table), and the EmployeeTerritory \n",
    "table is connected to the Employee table via the EmployeeId key \n",
    "(key Id in the Employee table = EmployeeId in the EmployeeTerritory \n",
    "table).\n",
    "\n",
    "So you could do an implicit join via a WHERE statement in \n",
    "query as below:\n",
    "WHERE (Employee.Id = EmployeeTerritory.EmployeeId) AND \n",
    "(EmployeeTerritory.TerritoryId = Territory.Id)\n",
    "\n",
    "-------------------------------------------------------\n",
    "\n",
    "Question #2: What is a situation where a document store \n",
    "(like MongoDB) is appropriate, and what is a situation where it is not appropriate?\n",
    "\n",
    "Answer:\n",
    "A document store DB like MongoDB that stores JSON docs \n",
    "(JSON docs are data formatted as key:value pairs) can be very \n",
    "useful when you have truly massive amounts of data, such that \n",
    "storing the entire DB in one single place (e.g., one \n",
    "HW device/server) to use it as a relational database would \n",
    "be far too expensive or even impossible (require vertical \n",
    "scaling your HW to a point at which it is extremely \n",
    "expensive, or maybe does not even exist yet). In such a \n",
    "situation, a document store DB (\"NoSQL DB\" / non-relational \n",
    "DB) can be extremely useful and more much cost-efficient, \n",
    "because it can allow you to distribute the compute task/process \n",
    "across many cheaper (and existing today) HW devices, using \n",
    "much more cost-efficient parallel processing / distributed \n",
    "computing approach. For example (one method -- MapReduce): \n",
    "sharding your data into many different parts\n",
    "--> run a map operation to sort or filter each shard of \n",
    "local data as needed \n",
    "--> run a reduce operation to process and operation on each \n",
    "local shard of data and combine all into the final result we want.\n",
    "(a MapReduce approach, as used in Hadoop HDFS-es)\n",
    "\n",
    "A document store DB would not be as appropriate for a situation \n",
    "in which having well-structured, quickly queryable data is your \n",
    "#1 priority. For example, if your database is meant primarily \n",
    "for your business analysts to query using SQL, and you don't \n",
    "have truly massive amounts of data (e.g., 10,000s of customers, \n",
    "products, orders instead of 10 mns of customers, products, \n",
    "orders).\n",
    "\n",
    "-------------------------------------------------------\n",
    "\n",
    "Question #3: What is \"NewSQL\", and what is it trying to achieve?\n",
    "\n",
    "Answer:\n",
    "NewSQL DB solutions aim to combine the ease-of-use of SQL in the form \n",
    "of queries via SQL (Structured Query Language) with the horizontal \n",
    "scalability and connected greater computational cost-efficiency \n",
    "possible with non-relational (document store or \"NoSQL\") DBs."
   ]
  },
  {
   "cell_type": "markdown",
   "metadata": {},
   "source": [
    "### Part 5 - Turn it in!\n",
    "Provide all the files you wrote (`demo_data.py`, `northwind.py`), as well as\n",
    "this file with your answers to part 4, directly to your TL. You're also\n",
    "encouraged to include the output from your queries as docstring comments, to\n",
    "facilitate grading and feedback. Thanks for your hard work!\n",
    "\n",
    "If you got this far, check out the [larger Northwind\n",
    "database](https://github.com/jpwhite3/northwind-SQLite3/blob/master/Northwind_large.sqlite.zip) -\n",
    "your queries should run on it as well, with richer results."
   ]
  },
  {
   "cell_type": "code",
   "execution_count": null,
   "metadata": {},
   "outputs": [],
   "source": [
    "# See .py files in this directory/repo."
   ]
  }
 ],
 "metadata": {
  "kernelspec": {
   "display_name": "Python 3",
   "language": "python",
   "name": "python3"
  },
  "language_info": {
   "codemirror_mode": {
    "name": "ipython",
    "version": 3
   },
   "file_extension": ".py",
   "mimetype": "text/x-python",
   "name": "python",
   "nbconvert_exporter": "python",
   "pygments_lexer": "ipython3",
   "version": "3.7.3"
  }
 },
 "nbformat": 4,
 "nbformat_minor": 2
}
